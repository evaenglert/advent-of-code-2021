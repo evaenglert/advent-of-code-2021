{
 "cells": [
  {
   "cell_type": "markdown",
   "id": "af29bf29",
   "metadata": {},
   "source": [
    "## Part 1 - Starfish"
   ]
  },
  {
   "cell_type": "code",
   "execution_count": 1,
   "id": "604823b1",
   "metadata": {},
   "outputs": [],
   "source": [
    "data = \"\"\"1,4,2,4,5,3,5,2,2,5,2,1,2,4,5,2,3,5,4,3,3,1,2,3,2,1,4,4,2,1,1,4,1,4,4,4,1,4,2,4,3,3,3,3,1,1,5,4,2,5,2,4,2,2,3,1,2,5,2,4,1,5,3,5,1,4,5,3,1,4,5,2,4,5,3,1,2,5,1,2,2,1,5,5,1,1,1,4,2,5,4,3,3,1,3,4,1,1,2,2,2,5,4,4,3,2,1,1,1,1,2,5,1,3,2,1,4,4,2,1,4,5,2,5,5,3,3,1,3,2,2,3,4,1,3,1,5,4,2,5,2,4,1,5,1,4,5,1,2,4,4,1,4,1,4,4,2,2,5,4,1,3,1,3,3,1,5,1,5,5,5,1,3,1,2,1,4,5,4,4,1,3,3,1,4,1,2,1,3,2,1,5,5,3,3,1,3,5,1,5,3,5,3,1,1,1,1,4,4,3,5,5,1,1,2,2,5,5,3,2,5,2,3,4,4,1,1,2,2,4,3,5,5,1,1,5,4,3,1,3,1,2,4,4,4,4,1,4,3,4,1,3,5,5,5,1,3,5,4,3,1,3,5,4,4,3,4,2,1,1,3,1,1,2,4,1,4,1,1,1,5,5,1,3,4,1,1,5,4,4,2,2,1,3,4,4,2,2,2,3\"\"\""
   ]
  },
  {
   "cell_type": "code",
   "execution_count": 7,
   "id": "b6884721",
   "metadata": {},
   "outputs": [],
   "source": [
    "starfish_list = list(map(lambda x: int(x), data.split(',')))\n",
    "\n",
    "for i in range(80):\n",
    "    new_babies = 0\n",
    "    for j in range(len(starfish_list)):\n",
    "        if starfish_list[j] > 0:\n",
    "            starfish_list[j] -= 1\n",
    "        else:\n",
    "            starfish_list[j] = 6\n",
    "            new_babies += 1\n",
    "    \n",
    "    starfish_list = starfish_list + [8] * new_babies  \n",
    "\n",
    "len(starfish_list)"
   ]
  },
  {
   "cell_type": "markdown",
   "id": "128a9643",
   "metadata": {},
   "source": [
    "## Part"
   ]
  },
  {
   "cell_type": "code",
   "execution_count": 13,
   "id": "95698952",
   "metadata": {},
   "outputs": [],
   "source": [
    "data = \"\"\"1,4,2,4,5,3,5,2,2,5,2,1,2,4,5,2,3,5,4,3,3,1,2,3,2,1,4,4,2,1,1,4,1,4,4,4,1,4,2,4,3,3,3,3,1,1,5,4,2,5,2,4,2,2,3,1,2,5,2,4,1,5,3,5,1,4,5,3,1,4,5,2,4,5,3,1,2,5,1,2,2,1,5,5,1,1,1,4,2,5,4,3,3,1,3,4,1,1,2,2,2,5,4,4,3,2,1,1,1,1,2,5,1,3,2,1,4,4,2,1,4,5,2,5,5,3,3,1,3,2,2,3,4,1,3,1,5,4,2,5,2,4,1,5,1,4,5,1,2,4,4,1,4,1,4,4,2,2,5,4,1,3,1,3,3,1,5,1,5,5,5,1,3,1,2,1,4,5,4,4,1,3,3,1,4,1,2,1,3,2,1,5,5,3,3,1,3,5,1,5,3,5,3,1,1,1,1,4,4,3,5,5,1,1,2,2,5,5,3,2,5,2,3,4,4,1,1,2,2,4,3,5,5,1,1,5,4,3,1,3,1,2,4,4,4,4,1,4,3,4,1,3,5,5,5,1,3,5,4,3,1,3,5,4,4,3,4,2,1,1,3,1,1,2,4,1,4,1,1,1,5,5,1,3,4,1,1,5,4,4,2,2,1,3,4,4,2,2,2,3\"\"\""
   ]
  },
  {
   "cell_type": "code",
   "execution_count": 32,
   "id": "78334b9a",
   "metadata": {},
   "outputs": [
    {
     "data": {
      "text/plain": [
       "1589590444365"
      ]
     },
     "execution_count": 32,
     "metadata": {},
     "output_type": "execute_result"
    }
   ],
   "source": [
    "\n",
    "starfish_list = list(map(lambda x: int(x), data.split(',')))\n",
    "\n",
    "\n",
    "starfish_dictionary = { 0: 0, 1: 0, 2: 0, 3: 0, 4: 0, 5: 0, 6:0, 7:0, 8:0}\n",
    "\n",
    "for fish in starfish_list:\n",
    "    starfish_dictionary[fish] += 1\n",
    "    \n",
    "for i in range(256):\n",
    "    new_dict = { 0: 0, 1: 0, 2: 0, 3: 0, 4: 0, 5: 0, 6:0, 7:0, 8:0}\n",
    "    for j in starfish_dictionary.keys():\n",
    "        \n",
    "        if j < 8:\n",
    "            new_dict[j] = starfish_dictionary[j+1]\n",
    "        else:\n",
    "            new_dict[j] = starfish_dictionary[0]\n",
    "    new_dict[6] = new_dict[6] + starfish_dictionary[0]\n",
    "            \n",
    "        \n",
    "    starfish_dictionary = new_dict\n",
    "\n",
    "sum(starfish_dictionary.values())"
   ]
  }
 ],
 "metadata": {
  "kernelspec": {
   "display_name": "lewagon",
   "language": "python",
   "name": "lewagon"
  },
  "language_info": {
   "codemirror_mode": {
    "name": "ipython",
    "version": 3
   },
   "file_extension": ".py",
   "mimetype": "text/x-python",
   "name": "python",
   "nbconvert_exporter": "python",
   "pygments_lexer": "ipython3",
   "version": "3.8.12"
  },
  "toc": {
   "base_numbering": 1,
   "nav_menu": {},
   "number_sections": true,
   "sideBar": true,
   "skip_h1_title": false,
   "title_cell": "Table of Contents",
   "title_sidebar": "Contents",
   "toc_cell": false,
   "toc_position": {},
   "toc_section_display": true,
   "toc_window_display": false
  }
 },
 "nbformat": 4,
 "nbformat_minor": 5
}
